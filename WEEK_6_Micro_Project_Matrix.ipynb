{
  "nbformat": 4,
  "nbformat_minor": 0,
  "metadata": {
    "colab": {
      "name": "WEEK_6_Micro_Project_Matrix.ipynb",
      "version": "0.3.2",
      "provenance": [],
      "collapsed_sections": [],
      "include_colab_link": true
    },
    "kernelspec": {
      "name": "python3",
      "display_name": "Python 3"
    }
  },
  "cells": [
    {
      "cell_type": "markdown",
      "metadata": {
        "id": "view-in-github",
        "colab_type": "text"
      },
      "source": [
        "<a href=\"https://colab.research.google.com/github/SandaliW/411-MTP-191AEM006/blob/WEEK_6/WEEK_6_Micro_Project_Matrix.ipynb\" target=\"_parent\"><img src=\"https://colab.research.google.com/assets/colab-badge.svg\" alt=\"Open In Colab\"/></a>"
      ]
    },
    {
      "cell_type": "code",
      "metadata": {
        "id": "QB6bYvAzeOKa",
        "colab_type": "code",
        "colab": {
          "base_uri": "https://localhost:8080/",
          "height": 54
        },
        "outputId": "ac17f1f3-46b8-4a0d-fd29-7142753f87af"
      },
      "source": [
        "!pip install scipy"
      ],
      "execution_count": 2,
      "outputs": [
        {
          "output_type": "stream",
          "text": [
            "Requirement already satisfied: scipy in /usr/local/lib/python3.6/dist-packages (1.2.1)\n",
            "Requirement already satisfied: numpy>=1.8.2 in /usr/local/lib/python3.6/dist-packages (from scipy) (1.16.3)\n"
          ],
          "name": "stdout"
        }
      ]
    },
    {
      "cell_type": "code",
      "metadata": {
        "id": "7_DwSmomedZ6",
        "colab_type": "code",
        "colab": {}
      },
      "source": [
        "from scipy.linalg import expm\n",
        "import numpy as np\n",
        "import matplotlib.pyplot as plt"
      ],
      "execution_count": 0,
      "outputs": []
    },
    {
      "cell_type": "code",
      "metadata": {
        "id": "iDvp4B19eh4n",
        "colab_type": "code",
        "colab": {}
      },
      "source": [
        "x = np.array([[-3,3],[5,-5]])"
      ],
      "execution_count": 0,
      "outputs": []
    },
    {
      "cell_type": "code",
      "metadata": {
        "id": "ktpFG22Ae0nT",
        "colab_type": "code",
        "colab": {}
      },
      "source": [
        "t = np.arange(0, 1, 0.01)\n",
        "m = np.zeros((len(t),2,2))\n",
        "m1_1= np.zeros(len(t))\n",
        "m1_2= np.zeros(len(t))\n",
        "m2_1= np.zeros(len(t))\n",
        "m2_2= np.zeros(len(t))"
      ],
      "execution_count": 0,
      "outputs": []
    },
    {
      "cell_type": "code",
      "metadata": {
        "id": "MrukiMOeek77",
        "colab_type": "code",
        "colab": {
          "base_uri": "https://localhost:8080/",
          "height": 54
        },
        "outputId": "e1fd9ce9-3075-4a37-cd0a-460a98697ae6"
      },
      "source": [
        "expm(x*t[0])"
      ],
      "execution_count": 14,
      "outputs": [
        {
          "output_type": "execute_result",
          "data": {
            "text/plain": [
              "array([[1., 0.],\n",
              "       [0., 1.]])"
            ]
          },
          "metadata": {
            "tags": []
          },
          "execution_count": 14
        }
      ]
    },
    {
      "cell_type": "code",
      "metadata": {
        "id": "Z_zGga2jfABJ",
        "colab_type": "code",
        "colab": {}
      },
      "source": [
        "for i in range(0, len(t)):\n",
        "    m[i] = expm(x*t[i])\n",
        "    m1_1[i] = m[i,0,0]\n",
        "    m1_2[i] = m[i,0,1]\n",
        "    m2_1[i] = m[i,1,0]\n",
        "    m2_2[i] = m[i,1,1]"
      ],
      "execution_count": 0,
      "outputs": []
    },
    {
      "cell_type": "code",
      "metadata": {
        "id": "ESxcXebdfCe4",
        "colab_type": "code",
        "colab": {
          "base_uri": "https://localhost:8080/",
          "height": 269
        },
        "outputId": "67ecc643-7bc4-4e0b-9628-3ab41335ff0b"
      },
      "source": [
        "plt.plot (t,m1_1)\n",
        "plt.plot (t,m1_2)\n",
        "plt.plot (t,m2_1)\n",
        "plt.plot (t,m2_2)\n",
        "plt.show()"
      ],
      "execution_count": 16,
      "outputs": [
        {
          "output_type": "display_data",
          "data": {
            "image/png": "[encoded data removed]",
            "text/plain": [
              "<Figure size 432x288 with 1 Axes>"
            ]
          },
          "metadata": {
            "tags": []
          }
        }
      ]
    },
    {
      "cell_type": "code",
      "metadata": {
        "id": "uRB_GQJmel5O",
        "colab_type": "code",
        "colab": {}
      },
      "source": [
        ""
      ],
      "execution_count": 0,
      "outputs": []
    },
    {
      "cell_type": "code",
      "metadata": {
        "id": "B1Op0Amif2O0",
        "colab_type": "code",
        "colab": {}
      },
      "source": [
        ""
      ],
      "execution_count": 0,
      "outputs": []
    },
    {
      "cell_type": "code",
      "metadata": {
        "id": "M7FQWXA0ev46",
        "colab_type": "code",
        "colab": {}
      },
      "source": [
        ""
      ],
      "execution_count": 0,
      "outputs": []
    }
  ]
}